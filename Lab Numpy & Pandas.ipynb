{
 "cells": [
  {
   "cell_type": "markdown",
   "id": "971b8ccc",
   "metadata": {
    "id": "971b8ccc"
   },
   "source": [
    "### 1. Import the NUMPY package under the name np and PANDAS as pd."
   ]
  },
  {
   "cell_type": "code",
   "execution_count": 15,
   "id": "42a92920",
   "metadata": {
    "id": "42a92920"
   },
   "outputs": [],
   "source": [
    "import numpy as np\n",
    "import pandas as pd"
   ]
  },
  {
   "cell_type": "markdown",
   "id": "e741fdf2",
   "metadata": {
    "id": "e741fdf2"
   },
   "source": [
    "### 2. Generate a 2x3x5 3-dimensional array with random values. Assign the array to variable \"a\""
   ]
  },
  {
   "cell_type": "code",
   "execution_count": 16,
   "id": "322fac33",
   "metadata": {
    "id": "322fac33"
   },
   "outputs": [
    {
     "name": "stdout",
     "output_type": "stream",
     "text": [
      "The array a is: [[[0.87483108 0.05459639 0.01808458 0.05242859 0.92592184]\n",
      "  [0.69727663 0.84716043 0.10435198 0.63565397 0.92643289]\n",
      "  [0.34250511 0.33135009 0.06636827 0.99690074 0.53905238]]\n",
      "\n",
      " [[0.14301685 0.53359439 0.3749726  0.39844591 0.19745744]\n",
      "  [0.64943394 0.9780877  0.4593586  0.06807445 0.01284381]\n",
      "  [0.91647324 0.93916384 0.11000112 0.09968686 0.40305034]]]\n"
     ]
    }
   ],
   "source": [
    "a = np.random.random((2, 3, 5))\n",
    "print(f\"The array a is: {a}\")"
   ]
  },
  {
   "cell_type": "markdown",
   "id": "e4431985",
   "metadata": {
    "id": "e4431985"
   },
   "source": [
    "### 3. Create a 5x2x3 3-dimensional array with all values equaling 1."
   ]
  },
  {
   "cell_type": "code",
   "execution_count": 17,
   "id": "17410c6a",
   "metadata": {
    "id": "17410c6a"
   },
   "outputs": [
    {
     "name": "stdout",
     "output_type": "stream",
     "text": [
      "The array b is: [[[1. 1. 1.]\n",
      "  [1. 1. 1.]]\n",
      "\n",
      " [[1. 1. 1.]\n",
      "  [1. 1. 1.]]\n",
      "\n",
      " [[1. 1. 1.]\n",
      "  [1. 1. 1.]]\n",
      "\n",
      " [[1. 1. 1.]\n",
      "  [1. 1. 1.]]\n",
      "\n",
      " [[1. 1. 1.]\n",
      "  [1. 1. 1.]]]\n"
     ]
    }
   ],
   "source": [
    "b = np.ones((5, 2, 3))\n",
    "print(f\"The array b is: {b}\")"
   ]
  },
  {
   "cell_type": "markdown",
   "id": "3c94d510",
   "metadata": {
    "id": "3c94d510"
   },
   "source": [
    "### 4. Do a and b have the same size? How do you prove that in Python code?"
   ]
  },
  {
   "cell_type": "code",
   "execution_count": 18,
   "id": "4548eb97",
   "metadata": {
    "id": "4548eb97"
   },
   "outputs": [
    {
     "name": "stdout",
     "output_type": "stream",
     "text": [
      "The arrays a and b have the same size\n"
     ]
    }
   ],
   "source": [
    "if a.size == b.size:\n",
    "    print(\"The arrays a and b have the same size\")\n",
    "else:\n",
    "    print(\"The arrays a and b do not have the same size\")"
   ]
  },
  {
   "cell_type": "markdown",
   "id": "d0afc5b8",
   "metadata": {
    "id": "d0afc5b8"
   },
   "source": [
    "### 4. Identify the max, min, and mean values in a. Assign those values to variables \"d_max\", \"d_min\", and \"d_mean\""
   ]
  },
  {
   "cell_type": "code",
   "execution_count": 19,
   "id": "6e6a6997",
   "metadata": {
    "id": "6e6a6997"
   },
   "outputs": [
    {
     "name": "stdout",
     "output_type": "stream",
     "text": [
      "The max value in a is: 0.9969007422912698\n",
      "The min value in a is: 0.012843814211223492\n",
      "The mean value in a is: 0.45655253579784943\n"
     ]
    }
   ],
   "source": [
    "d_max = a.max()\n",
    "d_min = a.min()\n",
    "d_mean = a.mean()\n",
    "print(f\"The max value in a is: {d_max}\")\n",
    "print(f\"The min value in a is: {d_min}\")\n",
    "print(f\"The mean value in a is: {d_mean}\")"
   ]
  },
  {
   "cell_type": "markdown",
   "id": "ce4e2a17",
   "metadata": {
    "id": "ce4e2a17"
   },
   "source": [
    "### 5. Now we want to label the values in d. First create an empty array \"f\" with the same shape (i.e. 2x3x5) as d using `np.empty`."
   ]
  },
  {
   "cell_type": "code",
   "execution_count": 20,
   "id": "e26839e6",
   "metadata": {
    "id": "e26839e6"
   },
   "outputs": [
    {
     "name": "stdout",
     "output_type": "stream",
     "text": [
      "The array f is: [[[1. 1. 1. 1. 1.]\n",
      "  [1. 1. 1. 1. 1.]\n",
      "  [1. 1. 1. 1. 1.]]\n",
      "\n",
      " [[1. 1. 1. 1. 1.]\n",
      "  [1. 1. 1. 1. 1.]\n",
      "  [1. 1. 1. 1. 1.]]]\n"
     ]
    }
   ],
   "source": [
    "f = np.empty((2, 3, 5))\n",
    "print(f\"The array f is: {f}\")"
   ]
  },
  {
   "cell_type": "markdown",
   "id": "8e40ce74",
   "metadata": {
    "id": "8e40ce74"
   },
   "source": [
    "### 6. Populate the values in f. \n",
    "\n",
    "    For each value in d, if it's larger than d_min but smaller than d_mean, assign 25 to the corresponding value in f.\n",
    "    If a value in d is larger than d_mean but smaller than d_max, assign 75 to the corresponding value in f.\n",
    "    If a value equals to d_mean, assign 50 to the corresponding value in f.\n",
    "    Assign 0 to the corresponding value(s) in f for d_min in d.\n",
    "    Assign 100 to the corresponding value(s) in f for d_max in d.\n",
    "    In the end, f should have only the following values: 0, 25, 50, 75, and 100.\n",
    "    Note: you don't have to use Numpy in this question."
   ]
  },
  {
   "cell_type": "code",
   "execution_count": 21,
   "id": "b3c7135c",
   "metadata": {
    "id": "b3c7135c"
   },
   "outputs": [
    {
     "name": "stdout",
     "output_type": "stream",
     "text": [
      "The array f is: [[[ 75.  25.  25.  25.  75.]\n",
      "  [ 75.  75.  25.  75.  75.]\n",
      "  [ 25.  25.  25. 100.  75.]]\n",
      "\n",
      " [[ 25.  75.  25.  25.  25.]\n",
      "  [ 75.  75.  75.  25.   0.]\n",
      "  [ 75.  75.  25.  25.  25.]]]\n",
      "The arrya a is: [[[0.87483108 0.05459639 0.01808458 0.05242859 0.92592184]\n",
      "  [0.69727663 0.84716043 0.10435198 0.63565397 0.92643289]\n",
      "  [0.34250511 0.33135009 0.06636827 0.99690074 0.53905238]]\n",
      "\n",
      " [[0.14301685 0.53359439 0.3749726  0.39844591 0.19745744]\n",
      "  [0.64943394 0.9780877  0.4593586  0.06807445 0.01284381]\n",
      "  [0.91647324 0.93916384 0.11000112 0.09968686 0.40305034]]]\n"
     ]
    }
   ],
   "source": [
    "f =np.empty((2, 3, 5))\n",
    "\n",
    "for i in range(2):\n",
    "    for j in range(3):\n",
    "        for k in range(5):\n",
    "            if a[i][j][k] > d_min and a[i][j][k] < d_mean:\n",
    "                f[i][j][k] = 25\n",
    "            elif a[i][j][k] > d_mean and a[i][j][k] < d_max:\n",
    "                f[i][j][k] = 75\n",
    "            elif a[i][j][k] == d_mean:\n",
    "                f[i][j][k] = 50\n",
    "            elif a[i][j][k] == d_min:\n",
    "                f[i][j][k] = 0\n",
    "            elif a[i][j][k] == d_max:\n",
    "                f[i][j][k] = 100\n",
    "\n",
    "print(f\"The array f is: {f}\")\n",
    "print(f\"The arrya a is: {a}\")"
   ]
  },
  {
   "cell_type": "markdown",
   "id": "1cfde667",
   "metadata": {
    "id": "1cfde667"
   },
   "source": [
    "Print d and f. \n",
    "\n",
    "Do you have your expected f?\n",
    "\n",
    "For instance, if your d is:\n",
    "\n",
    "    array([[[1.85836099, 1.67064465, 1.62576044, 1.40243961, 1.88454931],\n",
    "        [1.75354326, 1.69403643, 1.36729252, 1.61415071, 1.12104981],\n",
    "        [1.72201435, 1.1862918 , 1.87078449, 1.7726778 , 1.88180042]],\n",
    "       [[1.44747908, 1.31673383, 1.02000951, 1.52218947, 1.97066381],\n",
    "        [1.79129243, 1.74983003, 1.96028037, 1.85166831, 1.65450881],\n",
    "        [1.18068344, 1.9587381 , 1.00656599, 1.93402165, 1.73514584]]])\n",
    "\n",
    "Your f should be:\n",
    "\n",
    "    array([[[ 75.,  75.,  75.,  25.,  75.],\n",
    "        [ 75.,  75.,  25.,  25.,  25.],\n",
    "        [ 75.,  25.,  75.,  75.,  75.]],\n",
    "       [[ 25.,  25.,  25.,  25., 100.],\n",
    "        [ 75.,  75.,  75.,  75.,  75.],\n",
    "        [ 25.,  75.,   0.,  75.,  75.]]])"
   ]
  },
  {
   "cell_type": "markdown",
   "id": "4edd4acf",
   "metadata": {
    "id": "4edd4acf"
   },
   "source": [
    "### 7. Create a Pandas DataFrame from the list of lists below. Each sublist should be represented as a row."
   ]
  },
  {
   "cell_type": "code",
   "execution_count": 22,
   "id": "262b5df6",
   "metadata": {
    "id": "262b5df6"
   },
   "outputs": [
    {
     "name": "stdout",
     "output_type": "stream",
     "text": [
      "The DataFrame df is:       0     1     2     3     4\n",
      "0  53.1  95.0  67.5  35.0  78.4\n",
      "1  61.3  40.8  30.8  37.8  87.6\n",
      "2  20.6  73.2  44.2  14.6  91.8\n",
      "3  57.4   0.1  96.1   4.2  69.5\n",
      "4  83.6  20.5  85.4  22.8  35.9\n",
      "5  49.0  69.0   0.1  31.8  89.1\n",
      "6  23.3  40.7  95.0  83.8  26.9\n",
      "7  27.6  26.4  53.8  88.8  68.5\n",
      "8  96.6  96.4  53.4  72.4  50.1\n",
      "9  73.7  39.0  43.2  81.6  34.7\n"
     ]
    }
   ],
   "source": [
    "matriz = [[53.1, 95.0, 67.5, 35.0, 78.4],\n",
    "     [61.3, 40.8, 30.8, 37.8, 87.6],\n",
    "     [20.6, 73.2, 44.2, 14.6, 91.8],\n",
    "     [57.4, 0.1, 96.1, 4.2, 69.5],\n",
    "     [83.6, 20.5, 85.4, 22.8, 35.9],\n",
    "     [49.0, 69.0, 0.1, 31.8, 89.1],\n",
    "     [23.3, 40.7, 95.0, 83.8, 26.9],\n",
    "     [27.6, 26.4, 53.8, 88.8, 68.5],\n",
    "     [96.6, 96.4, 53.4, 72.4, 50.1],\n",
    "     [73.7, 39.0, 43.2, 81.6, 34.7]]\n",
    "df = pd.DataFrame(matriz)\n",
    "print(f\"The DataFrame df is: {df}\")"
   ]
  },
  {
   "cell_type": "markdown",
   "id": "9c8c5d11",
   "metadata": {
    "id": "9c8c5d11"
   },
   "source": [
    "### 8. Rename the data frame columns based on the names in the list below."
   ]
  },
  {
   "cell_type": "code",
   "execution_count": 23,
   "id": "35ef792c",
   "metadata": {
    "id": "35ef792c"
   },
   "outputs": [
    {
     "name": "stdout",
     "output_type": "stream",
     "text": [
      "The DataFrame df is:    Score_1  Score_2  Score_3  Score_4  Score_5\n",
      "0     53.1     95.0     67.5     35.0     78.4\n",
      "1     61.3     40.8     30.8     37.8     87.6\n",
      "2     20.6     73.2     44.2     14.6     91.8\n",
      "3     57.4      0.1     96.1      4.2     69.5\n",
      "4     83.6     20.5     85.4     22.8     35.9\n",
      "5     49.0     69.0      0.1     31.8     89.1\n",
      "6     23.3     40.7     95.0     83.8     26.9\n",
      "7     27.6     26.4     53.8     88.8     68.5\n",
      "8     96.6     96.4     53.4     72.4     50.1\n",
      "9     73.7     39.0     43.2     81.6     34.7\n"
     ]
    }
   ],
   "source": [
    "colnames = ['Score_1', 'Score_2', 'Score_3', 'Score_4', 'Score_5']\n",
    "df.columns = colnames\n",
    "print(f\"The DataFrame df is: {df}\")"
   ]
  },
  {
   "cell_type": "markdown",
   "id": "8f8f2191",
   "metadata": {
    "id": "8f8f2191"
   },
   "source": [
    "### 9. Create a subset of this data frame that contains only the Score 1, 3, and 5 columns."
   ]
  },
  {
   "cell_type": "code",
   "execution_count": 24,
   "id": "77163f29",
   "metadata": {
    "id": "77163f29"
   },
   "outputs": [
    {
     "name": "stdout",
     "output_type": "stream",
     "text": [
      "The DataFrame df2 is:    Score_1  Score_3  Score_5\n",
      "0     53.1     67.5     78.4\n",
      "1     61.3     30.8     87.6\n",
      "2     20.6     44.2     91.8\n",
      "3     57.4     96.1     69.5\n",
      "4     83.6     85.4     35.9\n",
      "5     49.0      0.1     89.1\n",
      "6     23.3     95.0     26.9\n",
      "7     27.6     53.8     68.5\n",
      "8     96.6     53.4     50.1\n",
      "9     73.7     43.2     34.7\n"
     ]
    }
   ],
   "source": [
    "df2 = df[['Score_1', 'Score_3', 'Score_5']]\n",
    "print(f\"The DataFrame df2 is: {df2}\")"
   ]
  },
  {
   "cell_type": "markdown",
   "id": "a4846d55",
   "metadata": {
    "id": "a4846d55"
   },
   "source": [
    "### 10. From the original data frame, calculate the average Score_3 value."
   ]
  },
  {
   "cell_type": "code",
   "execution_count": 25,
   "id": "d2ecdb08",
   "metadata": {
    "id": "d2ecdb08"
   },
   "outputs": [
    {
     "name": "stdout",
     "output_type": "stream",
     "text": [
      "The average Score_3 value is: 56.95\n"
     ]
    }
   ],
   "source": [
    "avg_score3 = df['Score_3'].mean()\n",
    "print(f\"The average Score_3 value is: {round(avg_score3,2)}\")"
   ]
  },
  {
   "cell_type": "markdown",
   "id": "5f702946",
   "metadata": {
    "id": "5f702946"
   },
   "source": [
    "### 11. Create a Pandas DataFrame from the dictionary of product orders below."
   ]
  },
  {
   "cell_type": "code",
   "execution_count": 26,
   "id": "04f78cf7",
   "metadata": {
    "id": "04f78cf7"
   },
   "outputs": [],
   "source": [
    "orders = {'Description': ['LUNCH BAG APPLE DESIGN',\n",
    "  'SET OF 60 VINTAGE LEAF CAKE CASES ',\n",
    "  'RIBBON REEL STRIPES DESIGN ',\n",
    "  'WORLD WAR 2 GLIDERS ASSTD DESIGNS',\n",
    "  'PLAYING CARDS JUBILEE UNION JACK',\n",
    "  'POPCORN HOLDER',\n",
    "  'BOX OF VINTAGE ALPHABET BLOCKS',\n",
    "  'PARTY BUNTING',\n",
    "  'JAZZ HEARTS ADDRESS BOOK',\n",
    "  'SET OF 4 SANTA PLACE SETTINGS'],\n",
    " 'Quantity': [1, 24, 1, 2880, 2, 7, 1, 4, 10, 48],\n",
    " 'UnitPrice': [1.65, 0.55, 1.65, 0.18, 1.25, 0.85, 11.95, 4.95, 0.19, 1.25],\n",
    " 'Revenue': [1.65, 13.2, 1.65, 518.4, 2.5, 5.95, 11.95, 19.8, 1.9, 60.0]}"
   ]
  },
  {
   "cell_type": "code",
   "execution_count": 27,
   "id": "0aaf1a27",
   "metadata": {
    "id": "0aaf1a27"
   },
   "outputs": [
    {
     "name": "stdout",
     "output_type": "stream",
     "text": [
      "The DataFrame df_orders is:                           Description  Quantity  UnitPrice  Revenue\n",
      "0              LUNCH BAG APPLE DESIGN         1       1.65     1.65\n",
      "1  SET OF 60 VINTAGE LEAF CAKE CASES         24       0.55    13.20\n",
      "2         RIBBON REEL STRIPES DESIGN          1       1.65     1.65\n",
      "3   WORLD WAR 2 GLIDERS ASSTD DESIGNS      2880       0.18   518.40\n",
      "4    PLAYING CARDS JUBILEE UNION JACK         2       1.25     2.50\n",
      "5                      POPCORN HOLDER         7       0.85     5.95\n",
      "6      BOX OF VINTAGE ALPHABET BLOCKS         1      11.95    11.95\n",
      "7                       PARTY BUNTING         4       4.95    19.80\n",
      "8            JAZZ HEARTS ADDRESS BOOK        10       0.19     1.90\n",
      "9       SET OF 4 SANTA PLACE SETTINGS        48       1.25    60.00\n"
     ]
    }
   ],
   "source": [
    "df_orders = pd.DataFrame(orders)\n",
    "print(f\"The DataFrame df_orders is: {df_orders}\")"
   ]
  },
  {
   "cell_type": "markdown",
   "id": "8e5a8e96",
   "metadata": {
    "id": "8e5a8e96"
   },
   "source": [
    "### 12. Calculate the total quantity ordered and revenue generated from these orders."
   ]
  },
  {
   "cell_type": "code",
   "execution_count": 28,
   "id": "876ca453",
   "metadata": {
    "id": "876ca453"
   },
   "outputs": [
    {
     "name": "stdout",
     "output_type": "stream",
     "text": [
      "The total quantity ordered is: 2978\n",
      "The total revenue generated is: 637.0\n"
     ]
    }
   ],
   "source": [
    "total_quantity = df_orders['Quantity'].sum()\n",
    "total_revenue = df_orders['Revenue'].sum()\n",
    "print(f\"The total quantity ordered is: {total_quantity}\")\n",
    "print(f\"The total revenue generated is: {total_revenue}\")"
   ]
  }
 ],
 "metadata": {
  "colab": {
   "provenance": []
  },
  "kernelspec": {
   "display_name": "Python 3 (ipykernel)",
   "language": "python",
   "name": "python3"
  },
  "language_info": {
   "codemirror_mode": {
    "name": "ipython",
    "version": 3
   },
   "file_extension": ".py",
   "mimetype": "text/x-python",
   "name": "python",
   "nbconvert_exporter": "python",
   "pygments_lexer": "ipython3",
   "version": "3.9.7"
  }
 },
 "nbformat": 4,
 "nbformat_minor": 5
}
